{
 "cells": [
  {
   "cell_type": "code",
   "execution_count": 1,
   "metadata": {
    "collapsed": true
   },
   "outputs": [],
   "source": [
    "from numpy import *\n",
    "import random as rd\n",
    "import numpy as np\n",
    "import matplotlib.pyplot as plt\n"
   ]
  },
  {
   "cell_type": "code",
   "execution_count": 2,
   "metadata": {
    "collapsed": true
   },
   "outputs": [],
   "source": [
    "def update_params(params, gradients, learning_rate):\n",
    "    return params - learning_rate * gradients"
   ]
  },
  {
   "cell_type": "code",
   "execution_count": 3,
   "metadata": {
    "collapsed": false
   },
   "outputs": [],
   "source": [
    "def get_gradient(X, y, params):\n",
    "    h = y - np.dot(X, params)\n",
    "    gradients = np.zeros(len(params))\n",
    "    for i in range(len(gradients)):\n",
    "        gradients[i] = - 1* np.dot(h, X[:, i]) / float(len(y))\n",
    "    return gradients"
   ]
  },
  {
   "cell_type": "code",
   "execution_count": 4,
   "metadata": {
    "collapsed": true
   },
   "outputs": [],
   "source": [
    "def compute_loss(X, y, params):\n",
    "    return np.sum((y - np.dot(X, params)) ** 2) / (2 * float(len(X)))"
   ]
  },
  {
   "cell_type": "code",
   "execution_count": 5,
   "metadata": {
    "collapsed": true
   },
   "outputs": [],
   "source": [
    "def gradient_descent(X, y, learning_rate, num_iterations):\n",
    "    num_params = X.shape[1]\n",
    "    #params = np.random.rand(1, num_params)\n",
    "    #params = np.squeeze(params) # convert 2D matrix to 1D array \n",
    "    params = np.array([0, 0])\n",
    "    #while True:\n",
    "    for i in range(num_iterations):\n",
    "        old_loss = compute_loss(X, y, params)\n",
    "        print(\"Iteration %d | Cost: %f\" % (i, old_loss))\n",
    "        gradients = get_gradient(X, y, params)\n",
    "        print(\"Gradient\", gradients)\n",
    "        params = update_params(params, gradients, learning_rate)\n",
    "        new_loss = compute_loss(X, y, params)\n",
    "        if abs(new_loss - old_loss) < 0.00001:\n",
    "            break\n",
    "        #print('old_loss: ' + str(old_loss) + ', new_loss: ' + str(new_loss))\n",
    "\n",
    "    return params"
   ]
  },
  {
   "cell_type": "code",
   "execution_count": 6,
   "metadata": {
    "collapsed": false
   },
   "outputs": [
    {
     "name": "stdout",
     "output_type": "stream",
     "text": [
      "Iteration 0 | Cost: 2782.553917\n",
      "Gradient [  -72.73505055 -3685.3514868 ]\n",
      "Iteration 1 | Cost: 1593.133459\n",
      "Gradient [  -54.6849074  -2766.98863588]\n",
      "params [ 0.012742    0.64523401]\n"
     ]
    }
   ],
   "source": [
    "points = genfromtxt('data.csv', delimiter = ',')\n",
    "points = np.insert(points, 0, 1, axis = 1)\n",
    "X = points[:,:-1]\n",
    "y = points[:, -1]\n",
    "#print(X)\n",
    "#print(y)\n",
    "\n",
    "params = gradient_descent(X, y, learning_rate = 0.0001, num_iterations = 2)\n",
    "print(\"params\", params)"
   ]
  },
  {
   "cell_type": "code",
   "execution_count": 7,
   "metadata": {
    "collapsed": false
   },
   "outputs": [
    {
     "data": {
      "text/plain": [
       "\"\\npoints = genfromtxt('CCPP.csv', delimiter = ',', skip_header = 1)\\npoints = points[:, [1, 4]]\\npoints = np.insert(points, 0, 1, axis = 1)\\nX = points[:,:-1]\\ny = points[:, -1]\\nprint(X)\\nprint(y)\\nparams = gradient_descent(X, y, learning_rate = 0.001, num_iterations = 10000)\\nparams = gradient_descent(X, y, learning_rate = 0.0004, num_iterations = 100000)\\nprint(params)\\n\""
      ]
     },
     "execution_count": 7,
     "metadata": {},
     "output_type": "execute_result"
    }
   ],
   "source": [
    "\"\"\"\n",
    "points = genfromtxt('CCPP.csv', delimiter = ',', skip_header = 1)\n",
    "points = points[:, [1, 4]]\n",
    "points = np.insert(points, 0, 1, axis = 1)\n",
    "X = points[:,:-1]\n",
    "y = points[:, -1]\n",
    "print(X)\n",
    "print(y)\n",
    "params = gradient_descent(X, y, learning_rate = 0.001, num_iterations = 10000)\n",
    "params = gradient_descent(X, y, learning_rate = 0.0004, num_iterations = 100000)\n",
    "print(params)\n",
    "\"\"\""
   ]
  },
  {
   "cell_type": "code",
   "execution_count": 8,
   "metadata": {
    "collapsed": false
   },
   "outputs": [],
   "source": [
    "#plt.scatter(X[:, 1], y, color='black')\n",
    "#x = np.r_[0 : 80 : 11]\n",
    "#plt.plot(x, -0.99*x + 508.83216289, label = 'manual', color = 'green')\n",
    "#plt.show()"
   ]
  },
  {
   "cell_type": "code",
   "execution_count": 9,
   "metadata": {
    "collapsed": false
   },
   "outputs": [
    {
     "name": "stdout",
     "output_type": "stream",
     "text": [
      "[[ 0  1  2]\n",
      " [ 3  4  5]\n",
      " [ 6  7  8]\n",
      " [ 9 10 11]]\n",
      "4\n",
      "[1 2 3 4]\n",
      "[3 4 5]\n",
      "old_loss: 2910.75\n",
      "gradients: [ 426.   491.5  557. ]\n",
      "new_params: [ 2.9574   3.95085  4.9443 ]\n",
      "new_loss: 2837.88212075\n",
      "old_loss: 2837.88212075\n",
      "gradients: [ 420.63285   485.308775  549.9847  ]\n",
      "new_params: [ 2.91533671  3.90231912  4.88930153]\n",
      "new_loss: 2766.83842741\n"
     ]
    }
   ],
   "source": [
    "X = np.arange(0, 12).reshape(4, 3)\n",
    "print(X)\n",
    "print(len(X))\n",
    "\n",
    "y = np.arange(1, 5)\n",
    "print(y)\n",
    "params = np.arange(3, 6)\n",
    "print(params)\n",
    "\n",
    "for k in range(2):\n",
    "    old_loss = compute_loss(X, y, params)\n",
    "    print('old_loss: ' + str(old_loss))\n",
    "    gradients = get_gradient(X, y, params)\n",
    "    print('gradients: ' + str(gradients))\n",
    "    params = update_params(params, gradients, 0.0001)\n",
    "    print('new_params: ' + str(params))\n",
    "    new_loss = compute_loss(X, y, params)\n",
    "    print('new_loss: ' + str(new_loss))"
   ]
  },
  {
   "cell_type": "code",
   "execution_count": null,
   "metadata": {
    "collapsed": true
   },
   "outputs": [],
   "source": []
  }
 ],
 "metadata": {
  "kernelspec": {
   "display_name": "Python 3",
   "language": "python",
   "name": "python3"
  },
  "language_info": {
   "codemirror_mode": {
    "name": "ipython",
    "version": 3
   },
   "file_extension": ".py",
   "mimetype": "text/x-python",
   "name": "python",
   "nbconvert_exporter": "python",
   "pygments_lexer": "ipython3",
   "version": "3.5.2"
  }
 },
 "nbformat": 4,
 "nbformat_minor": 1
}
