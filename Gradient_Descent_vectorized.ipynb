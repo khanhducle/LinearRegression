{
 "cells": [
  {
   "cell_type": "code",
   "execution_count": 1,
   "metadata": {
    "collapsed": true
   },
   "outputs": [],
   "source": [
    "from numpy import *\n",
    "import random as rd\n",
    "import numpy as np\n",
    "import matplotlib.pyplot as plt"
   ]
  },
  {
   "cell_type": "code",
   "execution_count": 2,
   "metadata": {
    "collapsed": true
   },
   "outputs": [],
   "source": [
    "def gradient_descent(X, y, learning_rate, num_iterations):\n",
    "    num_params = X.shape[1]\n",
    "    #params = np.random.rand(1, num_params)\n",
    "    #params = np.squeeze(params) # convert 2D matrix to 1D array \n",
    "    \n",
    "    params = np.array([0, 0])\n",
    "\n",
    "    m = float(len(y))\n",
    "    for i in range(num_iterations):\n",
    "        hypothesis = np.dot(X, params)\n",
    "        loss = hypothesis - y\n",
    "        cost = np.sum(loss ** 2) / (2 * m)\n",
    "        print(\"Iteration %d | Cost: %f\" % (i, cost))\n",
    "        gradient = np.dot(X.T, loss) / m\n",
    "        print(\"Gradient\", gradient)\n",
    "        params = params - learning_rate * gradient\n",
    "\n",
    "    return params"
   ]
  },
  {
   "cell_type": "code",
   "execution_count": 3,
   "metadata": {
    "collapsed": false
   },
   "outputs": [
    {
     "name": "stdout",
     "output_type": "stream",
     "text": [
      "Iteration 0 | Cost: 2782.553917\n",
      "Gradient [  -72.73505055 -3685.3514868 ]\n",
      "Iteration 1 | Cost: 1593.133459\n",
      "Gradient [  -54.6849074  -2766.98863588]\n",
      "params [ 0.012742    0.64523401]\n"
     ]
    }
   ],
   "source": [
    "points = genfromtxt('data.csv', delimiter = ',')\n",
    "points = np.insert(points, 0, 1, axis = 1)\n",
    "X = points[:,:-1]\n",
    "y = points[:, -1]\n",
    "params = gradient_descent(X, y, learning_rate = 0.0001, num_iterations = 2)\n",
    "print(\"params\", params)"
   ]
  },
  {
   "cell_type": "code",
   "execution_count": 4,
   "metadata": {
    "collapsed": false
   },
   "outputs": [
    {
     "name": "stdout",
     "output_type": "stream",
     "text": [
      "10 loops, best of 3: 46.1 ms per loop\n"
     ]
    }
   ],
   "source": [
    "%timeit for i in arange(1000000): pass"
   ]
  },
  {
   "cell_type": "code",
   "execution_count": 5,
   "metadata": {
    "collapsed": false
   },
   "outputs": [
    {
     "name": "stdout",
     "output_type": "stream",
     "text": [
      "10 loops, best of 3: 26.9 ms per loop\n"
     ]
    }
   ],
   "source": [
    "%timeit for i in range(1000000): pass"
   ]
  },
  {
   "cell_type": "code",
   "execution_count": null,
   "metadata": {
    "collapsed": true
   },
   "outputs": [],
   "source": []
  }
 ],
 "metadata": {
  "kernelspec": {
   "display_name": "Python 3",
   "language": "python",
   "name": "python3"
  },
  "language_info": {
   "codemirror_mode": {
    "name": "ipython",
    "version": 3
   },
   "file_extension": ".py",
   "mimetype": "text/x-python",
   "name": "python",
   "nbconvert_exporter": "python",
   "pygments_lexer": "ipython3",
   "version": "3.5.2"
  }
 },
 "nbformat": 4,
 "nbformat_minor": 1
}
